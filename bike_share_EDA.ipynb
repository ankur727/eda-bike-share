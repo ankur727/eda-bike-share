{
  "nbformat": 4,
  "nbformat_minor": 0,
  "metadata": {
    "colab": {
      "name": "bike share EDA",
      "provenance": [],
      "collapsed_sections": [],
      "mount_file_id": "1zy2Eymdie6yqQRxUPFhTZTQkgRmGg014",
      "authorship_tag": "ABX9TyOP9UVMVFnmbekOsQOekpfH",
      "include_colab_link": true
    },
    "kernelspec": {
      "name": "python3",
      "display_name": "Python 3"
    },
    "language_info": {
      "name": "python"
    }
  },
  "cells": [
    {
      "cell_type": "markdown",
      "metadata": {
        "id": "view-in-github",
        "colab_type": "text"
      },
      "source": [
        "<a href=\"https://colab.research.google.com/github/ankur727/eda-bike-share/blob/main/bike_share_EDA.ipynb\" target=\"_parent\"><img src=\"https://colab.research.google.com/assets/colab-badge.svg\" alt=\"Open In Colab\"/></a>"
      ]
    },
    {
      "cell_type": "markdown",
      "source": [
        "**MY CAPSTONE PROJECT FOR EDA ON BIKE SHARE USING PYTHON**\n",
        "Today I want to walk you through a data science project that i did at the end of course , so lets begin.\n",
        "**BACKGROUND**\n",
        "To maximize the number of annual memberships by converting casual riders to annual members.\n",
        "QUESTIONS TO BE ADDRESSED\n",
        "1.How do annual members and casual riders use cyclistic annual memberships.\n",
        "2.Why would casual riders buy cyclistic annual memberships.\n",
        "3.How can Cyclistic use digital media to influence casual riders to become members?"
      ],
      "metadata": {
        "id": "yxuEsm6pO-Na"
      }
    },
    {
      "cell_type": "code",
      "execution_count": null,
      "metadata": {
        "id": "o2Gnn_EFrM6T"
      },
      "outputs": [],
      "source": [
        "import pandas as pd\n",
        "import numpy as np\n",
        "import matplotlib.pyplot as plt\n",
        "import seaborn as sns\n",
        "import datetime\n"
      ]
    },
    {
      "cell_type": "code",
      "source": [
        "april_20=pd.read_csv('/content/drive/MyDrive/csv bike share data/apriel 2020.csv')\n",
        "may_20=pd.read_csv('/content/drive/MyDrive/csv bike share data/may 2020.csv')\n",
        "june_20=pd.read_csv('/content/drive/MyDrive/csv bike share data/june 2020.csv')\n",
        "july_20=pd.read_csv('/content/drive/MyDrive/csv bike share data/july 2020.csv')\n",
        "aug_20=pd.read_csv('/content/drive/MyDrive/csv bike share data/aug 2020.csv')\n",
        "sept_20=pd.read_csv('/content/drive/MyDrive/csv bike share data/sept 2020.csv')\n",
        "oct_20=pd.read_csv('/content/drive/MyDrive/csv bike share data/oct 2020.csv')\n",
        "nov_20=pd.read_csv('/content/drive/MyDrive/csv bike share data/nov 2020.csv')\n",
        "dec_20=pd.read_csv('/content/drive/MyDrive/csv bike share data/dec 2020.csv')\n",
        "jan_21=pd.read_csv('/content/drive/MyDrive/csv bike share data/jan 2021.csv')\n",
        "feb_21=pd.read_csv('/content/drive/MyDrive/csv bike share data/feb 2021.csv')\n",
        "mar_21=pd.read_csv('/content/drive/MyDrive/csv bike share data/mar 2021.csv')"
      ],
      "metadata": {
        "id": "KmlzYP7DvAWx"
      },
      "execution_count": null,
      "outputs": []
    },
    {
      "cell_type": "code",
      "source": [
        "#merge all data in one data_frame\n",
        "data_frames = [april_20, may_20, june_20, july_20, aug_20, sept_20,  oct_20, nov_20, dec_20, jan_21, feb_21, mar_21]"
      ],
      "metadata": {
        "id": "k6_EKF0g0pd7"
      },
      "execution_count": null,
      "outputs": []
    },
    {
      "cell_type": "code",
      "source": [
        "data_df = pd.concat(data_frames)"
      ],
      "metadata": {
        "id": "l4jWawml10m7"
      },
      "execution_count": null,
      "outputs": []
    },
    {
      "cell_type": "markdown",
      "source": [
        "  `     #let look at data\n",
        "data_df.head()"
      ],
      "metadata": {
        "id": "KU1neQMi2CZX"
      }
    },
    {
      "cell_type": "code",
      "source": [
        "data_df.dtypes"
      ],
      "metadata": {
        "colab": {
          "base_uri": "https://localhost:8080/"
        },
        "id": "6rKbk1Bk2CVW",
        "outputId": "dc31f1f1-e4a9-42f6-e9bb-23d256468cba"
      },
      "execution_count": null,
      "outputs": [
        {
          "output_type": "execute_result",
          "data": {
            "text/plain": [
              "ride_id                object\n",
              "rideable_type          object\n",
              "started_at             object\n",
              "ended_at               object\n",
              "start_station_name     object\n",
              "start_station_id       object\n",
              "end_station_name       object\n",
              "end_station_id         object\n",
              "start_lat             float64\n",
              "start_lng             float64\n",
              "end_lat               float64\n",
              "end_lng               float64\n",
              "member_casual          object\n",
              "dtype: object"
            ]
          },
          "metadata": {},
          "execution_count": 6
        }
      ]
    },
    {
      "cell_type": "code",
      "source": [
        "#now we can calculate the ride length\n",
        "data_df[\"started_at\"] = pd.to_datetime(data_df[\"started_at\"])\n",
        "data_df[\"ended_at\"] = pd.to_datetime(data_df[\"ended_at\"])"
      ],
      "metadata": {
        "id": "c9yiQPLW2CTP"
      },
      "execution_count": null,
      "outputs": []
    },
    {
      "cell_type": "markdown",
      "source": [
        ""
      ],
      "metadata": {
        "id": "_FuLb-CUAbjp"
      }
    },
    {
      "cell_type": "code",
      "source": [
        "data_df.dtypes\n",
        "\n",
        "#now we have changed the datatype of started and ended to date time format"
      ],
      "metadata": {
        "colab": {
          "base_uri": "https://localhost:8080/"
        },
        "id": "x2qaxeCl2CQG",
        "outputId": "52589b9f-b2df-4860-a7e4-8f11d6819d41"
      },
      "execution_count": null,
      "outputs": [
        {
          "output_type": "execute_result",
          "data": {
            "text/plain": [
              "ride_id                       object\n",
              "rideable_type                 object\n",
              "started_at            datetime64[ns]\n",
              "ended_at              datetime64[ns]\n",
              "start_station_name            object\n",
              "start_station_id              object\n",
              "end_station_name              object\n",
              "end_station_id                object\n",
              "start_lat                    float64\n",
              "start_lng                    float64\n",
              "end_lat                      float64\n",
              "end_lng                      float64\n",
              "member_casual                 object\n",
              "dtype: object"
            ]
          },
          "metadata": {},
          "execution_count": 8
        }
      ]
    },
    {
      "cell_type": "code",
      "source": [
        "#now ride length can be calculated\n",
        "data_df[\"ride_length\"] = data_df[\"ended_at\"] - data_df[\"started_at\"]\n",
        "data_df[\"ride_length\"]"
      ],
      "metadata": {
        "colab": {
          "base_uri": "https://localhost:8080/"
        },
        "id": "hyLuS5up2CNV",
        "outputId": "742ed9a5-78ec-4c68-a55b-8d783855fdce"
      },
      "execution_count": null,
      "outputs": [
        {
          "output_type": "execute_result",
          "data": {
            "text/plain": [
              "0        0 days 00:26:49\n",
              "1        0 days 00:08:09\n",
              "2        0 days 00:14:23\n",
              "3        0 days 00:12:12\n",
              "4        0 days 00:52:55\n",
              "               ...      \n",
              "228491   0 days 02:23:51\n",
              "228492   0 days 00:08:27\n",
              "228493   0 days 00:41:35\n",
              "228494   0 days 00:06:40\n",
              "228495   0 days 00:08:29\n",
              "Name: ride_length, Length: 3489748, dtype: timedelta64[ns]"
            ]
          },
          "metadata": {},
          "execution_count": 9
        }
      ]
    },
    {
      "cell_type": "code",
      "source": [
        "#would split the datetime column into tw\n",
        "data_df['Start_dates'] = pd.to_datetime(data_df['started_at']).dt.date"
      ],
      "metadata": {
        "id": "j7srr5lH2CLg"
      },
      "execution_count": null,
      "outputs": []
    },
    {
      "cell_type": "code",
      "source": [
        "data_df['Start_time'] = pd.to_datetime(data_df['started_at']).dt.time"
      ],
      "metadata": {
        "id": "zKZXpnMsGiuH"
      },
      "execution_count": null,
      "outputs": []
    },
    {
      "cell_type": "code",
      "source": [
        "data_df.head(2)"
      ],
      "metadata": {
        "colab": {
          "base_uri": "https://localhost:8080/",
          "height": 245
        },
        "id": "rdcDblNBEdd1",
        "outputId": "7d2e3fb2-a44f-46c6-fdb7-5aeabb068432"
      },
      "execution_count": null,
      "outputs": [
        {
          "output_type": "execute_result",
          "data": {
            "text/plain": [
              "            ride_id rideable_type          started_at            ended_at  \\\n",
              "0  A847FADBBC638E45   docked_bike 2020-04-26 17:45:14 2020-04-26 18:12:03   \n",
              "1  5405B80E996FF60D   docked_bike 2020-04-17 17:08:54 2020-04-17 17:17:03   \n",
              "\n",
              "          start_station_name start_station_id             end_station_name  \\\n",
              "0               Eckhart Park               86  Lincoln Ave & Diversey Pkwy   \n",
              "1  Drake Ave & Fullerton Ave              503              Kosciuszko Park   \n",
              "\n",
              "  end_station_id  start_lat  start_lng  end_lat  end_lng member_casual  \\\n",
              "0          152.0    41.8964   -87.6610  41.9322 -87.6586        member   \n",
              "1          499.0    41.9244   -87.7154  41.9306 -87.7238        member   \n",
              "\n",
              "      ride_length Start_dates Start_time  \n",
              "0 0 days 00:26:49  2020-04-26   17:45:14  \n",
              "1 0 days 00:08:09  2020-04-17   17:08:54  "
            ],
            "text/html": [
              "\n",
              "  <div id=\"df-748cff9f-6f13-4f04-825c-c507f04aeee0\">\n",
              "    <div class=\"colab-df-container\">\n",
              "      <div>\n",
              "<style scoped>\n",
              "    .dataframe tbody tr th:only-of-type {\n",
              "        vertical-align: middle;\n",
              "    }\n",
              "\n",
              "    .dataframe tbody tr th {\n",
              "        vertical-align: top;\n",
              "    }\n",
              "\n",
              "    .dataframe thead th {\n",
              "        text-align: right;\n",
              "    }\n",
              "</style>\n",
              "<table border=\"1\" class=\"dataframe\">\n",
              "  <thead>\n",
              "    <tr style=\"text-align: right;\">\n",
              "      <th></th>\n",
              "      <th>ride_id</th>\n",
              "      <th>rideable_type</th>\n",
              "      <th>started_at</th>\n",
              "      <th>ended_at</th>\n",
              "      <th>start_station_name</th>\n",
              "      <th>start_station_id</th>\n",
              "      <th>end_station_name</th>\n",
              "      <th>end_station_id</th>\n",
              "      <th>start_lat</th>\n",
              "      <th>start_lng</th>\n",
              "      <th>end_lat</th>\n",
              "      <th>end_lng</th>\n",
              "      <th>member_casual</th>\n",
              "      <th>ride_length</th>\n",
              "      <th>Start_dates</th>\n",
              "      <th>Start_time</th>\n",
              "    </tr>\n",
              "  </thead>\n",
              "  <tbody>\n",
              "    <tr>\n",
              "      <th>0</th>\n",
              "      <td>A847FADBBC638E45</td>\n",
              "      <td>docked_bike</td>\n",
              "      <td>2020-04-26 17:45:14</td>\n",
              "      <td>2020-04-26 18:12:03</td>\n",
              "      <td>Eckhart Park</td>\n",
              "      <td>86</td>\n",
              "      <td>Lincoln Ave &amp; Diversey Pkwy</td>\n",
              "      <td>152.0</td>\n",
              "      <td>41.8964</td>\n",
              "      <td>-87.6610</td>\n",
              "      <td>41.9322</td>\n",
              "      <td>-87.6586</td>\n",
              "      <td>member</td>\n",
              "      <td>0 days 00:26:49</td>\n",
              "      <td>2020-04-26</td>\n",
              "      <td>17:45:14</td>\n",
              "    </tr>\n",
              "    <tr>\n",
              "      <th>1</th>\n",
              "      <td>5405B80E996FF60D</td>\n",
              "      <td>docked_bike</td>\n",
              "      <td>2020-04-17 17:08:54</td>\n",
              "      <td>2020-04-17 17:17:03</td>\n",
              "      <td>Drake Ave &amp; Fullerton Ave</td>\n",
              "      <td>503</td>\n",
              "      <td>Kosciuszko Park</td>\n",
              "      <td>499.0</td>\n",
              "      <td>41.9244</td>\n",
              "      <td>-87.7154</td>\n",
              "      <td>41.9306</td>\n",
              "      <td>-87.7238</td>\n",
              "      <td>member</td>\n",
              "      <td>0 days 00:08:09</td>\n",
              "      <td>2020-04-17</td>\n",
              "      <td>17:08:54</td>\n",
              "    </tr>\n",
              "  </tbody>\n",
              "</table>\n",
              "</div>\n",
              "      <button class=\"colab-df-convert\" onclick=\"convertToInteractive('df-748cff9f-6f13-4f04-825c-c507f04aeee0')\"\n",
              "              title=\"Convert this dataframe to an interactive table.\"\n",
              "              style=\"display:none;\">\n",
              "        \n",
              "  <svg xmlns=\"http://www.w3.org/2000/svg\" height=\"24px\"viewBox=\"0 0 24 24\"\n",
              "       width=\"24px\">\n",
              "    <path d=\"M0 0h24v24H0V0z\" fill=\"none\"/>\n",
              "    <path d=\"M18.56 5.44l.94 2.06.94-2.06 2.06-.94-2.06-.94-.94-2.06-.94 2.06-2.06.94zm-11 1L8.5 8.5l.94-2.06 2.06-.94-2.06-.94L8.5 2.5l-.94 2.06-2.06.94zm10 10l.94 2.06.94-2.06 2.06-.94-2.06-.94-.94-2.06-.94 2.06-2.06.94z\"/><path d=\"M17.41 7.96l-1.37-1.37c-.4-.4-.92-.59-1.43-.59-.52 0-1.04.2-1.43.59L10.3 9.45l-7.72 7.72c-.78.78-.78 2.05 0 2.83L4 21.41c.39.39.9.59 1.41.59.51 0 1.02-.2 1.41-.59l7.78-7.78 2.81-2.81c.8-.78.8-2.07 0-2.86zM5.41 20L4 18.59l7.72-7.72 1.47 1.35L5.41 20z\"/>\n",
              "  </svg>\n",
              "      </button>\n",
              "      \n",
              "  <style>\n",
              "    .colab-df-container {\n",
              "      display:flex;\n",
              "      flex-wrap:wrap;\n",
              "      gap: 12px;\n",
              "    }\n",
              "\n",
              "    .colab-df-convert {\n",
              "      background-color: #E8F0FE;\n",
              "      border: none;\n",
              "      border-radius: 50%;\n",
              "      cursor: pointer;\n",
              "      display: none;\n",
              "      fill: #1967D2;\n",
              "      height: 32px;\n",
              "      padding: 0 0 0 0;\n",
              "      width: 32px;\n",
              "    }\n",
              "\n",
              "    .colab-df-convert:hover {\n",
              "      background-color: #E2EBFA;\n",
              "      box-shadow: 0px 1px 2px rgba(60, 64, 67, 0.3), 0px 1px 3px 1px rgba(60, 64, 67, 0.15);\n",
              "      fill: #174EA6;\n",
              "    }\n",
              "\n",
              "    [theme=dark] .colab-df-convert {\n",
              "      background-color: #3B4455;\n",
              "      fill: #D2E3FC;\n",
              "    }\n",
              "\n",
              "    [theme=dark] .colab-df-convert:hover {\n",
              "      background-color: #434B5C;\n",
              "      box-shadow: 0px 1px 3px 1px rgba(0, 0, 0, 0.15);\n",
              "      filter: drop-shadow(0px 1px 2px rgba(0, 0, 0, 0.3));\n",
              "      fill: #FFFFFF;\n",
              "    }\n",
              "  </style>\n",
              "\n",
              "      <script>\n",
              "        const buttonEl =\n",
              "          document.querySelector('#df-748cff9f-6f13-4f04-825c-c507f04aeee0 button.colab-df-convert');\n",
              "        buttonEl.style.display =\n",
              "          google.colab.kernel.accessAllowed ? 'block' : 'none';\n",
              "\n",
              "        async function convertToInteractive(key) {\n",
              "          const element = document.querySelector('#df-748cff9f-6f13-4f04-825c-c507f04aeee0');\n",
              "          const dataTable =\n",
              "            await google.colab.kernel.invokeFunction('convertToInteractive',\n",
              "                                                     [key], {});\n",
              "          if (!dataTable) return;\n",
              "\n",
              "          const docLinkHtml = 'Like what you see? Visit the ' +\n",
              "            '<a target=\"_blank\" href=https://colab.research.google.com/notebooks/data_table.ipynb>data table notebook</a>'\n",
              "            + ' to learn more about interactive tables.';\n",
              "          element.innerHTML = '';\n",
              "          dataTable['output_type'] = 'display_data';\n",
              "          await google.colab.output.renderOutput(dataTable, element);\n",
              "          const docLink = document.createElement('div');\n",
              "          docLink.innerHTML = docLinkHtml;\n",
              "          element.appendChild(docLink);\n",
              "        }\n",
              "      </script>\n",
              "    </div>\n",
              "  </div>\n",
              "  "
            ]
          },
          "metadata": {},
          "execution_count": 12
        }
      ]
    },
    {
      "cell_type": "code",
      "source": [
        "data_df.dtypes"
      ],
      "metadata": {
        "colab": {
          "base_uri": "https://localhost:8080/"
        },
        "id": "bOcr9VDjKccv",
        "outputId": "4dc28955-9ea7-4282-8f68-82ff53492814"
      },
      "execution_count": null,
      "outputs": [
        {
          "output_type": "execute_result",
          "data": {
            "text/plain": [
              "ride_id                        object\n",
              "rideable_type                  object\n",
              "started_at             datetime64[ns]\n",
              "ended_at               datetime64[ns]\n",
              "start_station_name             object\n",
              "start_station_id               object\n",
              "end_station_name               object\n",
              "end_station_id                 object\n",
              "start_lat                     float64\n",
              "start_lng                     float64\n",
              "end_lat                       float64\n",
              "end_lng                       float64\n",
              "member_casual                  object\n",
              "ride_length           timedelta64[ns]\n",
              "Start_dates                    object\n",
              "Start_time                     object\n",
              "dtype: object"
            ]
          },
          "metadata": {},
          "execution_count": 13
        }
      ]
    },
    {
      "cell_type": "code",
      "source": [
        "data_df[\"Start_dates\"] = pd.to_datetime(data_df[\"Start_dates\"])"
      ],
      "metadata": {
        "id": "Hyj-hJZ-C6QG"
      },
      "execution_count": null,
      "outputs": []
    },
    {
      "cell_type": "code",
      "source": [
        "data_df.head(2)"
      ],
      "metadata": {
        "colab": {
          "base_uri": "https://localhost:8080/",
          "height": 245
        },
        "id": "Bpyw6C_pDDf9",
        "outputId": "d1295651-4ebd-48eb-8b0a-3fe68fc15fbd"
      },
      "execution_count": null,
      "outputs": [
        {
          "output_type": "execute_result",
          "data": {
            "text/plain": [
              "            ride_id rideable_type          started_at            ended_at  \\\n",
              "0  A847FADBBC638E45   docked_bike 2020-04-26 17:45:14 2020-04-26 18:12:03   \n",
              "1  5405B80E996FF60D   docked_bike 2020-04-17 17:08:54 2020-04-17 17:17:03   \n",
              "\n",
              "          start_station_name start_station_id             end_station_name  \\\n",
              "0               Eckhart Park               86  Lincoln Ave & Diversey Pkwy   \n",
              "1  Drake Ave & Fullerton Ave              503              Kosciuszko Park   \n",
              "\n",
              "  end_station_id  start_lat  start_lng  end_lat  end_lng member_casual  \\\n",
              "0          152.0    41.8964   -87.6610  41.9322 -87.6586        member   \n",
              "1          499.0    41.9244   -87.7154  41.9306 -87.7238        member   \n",
              "\n",
              "      ride_length Start_dates Start_time  \n",
              "0 0 days 00:26:49  2020-04-26   17:45:14  \n",
              "1 0 days 00:08:09  2020-04-17   17:08:54  "
            ],
            "text/html": [
              "\n",
              "  <div id=\"df-e5ce7a9b-e387-48b8-a641-1a6be3a454a8\">\n",
              "    <div class=\"colab-df-container\">\n",
              "      <div>\n",
              "<style scoped>\n",
              "    .dataframe tbody tr th:only-of-type {\n",
              "        vertical-align: middle;\n",
              "    }\n",
              "\n",
              "    .dataframe tbody tr th {\n",
              "        vertical-align: top;\n",
              "    }\n",
              "\n",
              "    .dataframe thead th {\n",
              "        text-align: right;\n",
              "    }\n",
              "</style>\n",
              "<table border=\"1\" class=\"dataframe\">\n",
              "  <thead>\n",
              "    <tr style=\"text-align: right;\">\n",
              "      <th></th>\n",
              "      <th>ride_id</th>\n",
              "      <th>rideable_type</th>\n",
              "      <th>started_at</th>\n",
              "      <th>ended_at</th>\n",
              "      <th>start_station_name</th>\n",
              "      <th>start_station_id</th>\n",
              "      <th>end_station_name</th>\n",
              "      <th>end_station_id</th>\n",
              "      <th>start_lat</th>\n",
              "      <th>start_lng</th>\n",
              "      <th>end_lat</th>\n",
              "      <th>end_lng</th>\n",
              "      <th>member_casual</th>\n",
              "      <th>ride_length</th>\n",
              "      <th>Start_dates</th>\n",
              "      <th>Start_time</th>\n",
              "    </tr>\n",
              "  </thead>\n",
              "  <tbody>\n",
              "    <tr>\n",
              "      <th>0</th>\n",
              "      <td>A847FADBBC638E45</td>\n",
              "      <td>docked_bike</td>\n",
              "      <td>2020-04-26 17:45:14</td>\n",
              "      <td>2020-04-26 18:12:03</td>\n",
              "      <td>Eckhart Park</td>\n",
              "      <td>86</td>\n",
              "      <td>Lincoln Ave &amp; Diversey Pkwy</td>\n",
              "      <td>152.0</td>\n",
              "      <td>41.8964</td>\n",
              "      <td>-87.6610</td>\n",
              "      <td>41.9322</td>\n",
              "      <td>-87.6586</td>\n",
              "      <td>member</td>\n",
              "      <td>0 days 00:26:49</td>\n",
              "      <td>2020-04-26</td>\n",
              "      <td>17:45:14</td>\n",
              "    </tr>\n",
              "    <tr>\n",
              "      <th>1</th>\n",
              "      <td>5405B80E996FF60D</td>\n",
              "      <td>docked_bike</td>\n",
              "      <td>2020-04-17 17:08:54</td>\n",
              "      <td>2020-04-17 17:17:03</td>\n",
              "      <td>Drake Ave &amp; Fullerton Ave</td>\n",
              "      <td>503</td>\n",
              "      <td>Kosciuszko Park</td>\n",
              "      <td>499.0</td>\n",
              "      <td>41.9244</td>\n",
              "      <td>-87.7154</td>\n",
              "      <td>41.9306</td>\n",
              "      <td>-87.7238</td>\n",
              "      <td>member</td>\n",
              "      <td>0 days 00:08:09</td>\n",
              "      <td>2020-04-17</td>\n",
              "      <td>17:08:54</td>\n",
              "    </tr>\n",
              "  </tbody>\n",
              "</table>\n",
              "</div>\n",
              "      <button class=\"colab-df-convert\" onclick=\"convertToInteractive('df-e5ce7a9b-e387-48b8-a641-1a6be3a454a8')\"\n",
              "              title=\"Convert this dataframe to an interactive table.\"\n",
              "              style=\"display:none;\">\n",
              "        \n",
              "  <svg xmlns=\"http://www.w3.org/2000/svg\" height=\"24px\"viewBox=\"0 0 24 24\"\n",
              "       width=\"24px\">\n",
              "    <path d=\"M0 0h24v24H0V0z\" fill=\"none\"/>\n",
              "    <path d=\"M18.56 5.44l.94 2.06.94-2.06 2.06-.94-2.06-.94-.94-2.06-.94 2.06-2.06.94zm-11 1L8.5 8.5l.94-2.06 2.06-.94-2.06-.94L8.5 2.5l-.94 2.06-2.06.94zm10 10l.94 2.06.94-2.06 2.06-.94-2.06-.94-.94-2.06-.94 2.06-2.06.94z\"/><path d=\"M17.41 7.96l-1.37-1.37c-.4-.4-.92-.59-1.43-.59-.52 0-1.04.2-1.43.59L10.3 9.45l-7.72 7.72c-.78.78-.78 2.05 0 2.83L4 21.41c.39.39.9.59 1.41.59.51 0 1.02-.2 1.41-.59l7.78-7.78 2.81-2.81c.8-.78.8-2.07 0-2.86zM5.41 20L4 18.59l7.72-7.72 1.47 1.35L5.41 20z\"/>\n",
              "  </svg>\n",
              "      </button>\n",
              "      \n",
              "  <style>\n",
              "    .colab-df-container {\n",
              "      display:flex;\n",
              "      flex-wrap:wrap;\n",
              "      gap: 12px;\n",
              "    }\n",
              "\n",
              "    .colab-df-convert {\n",
              "      background-color: #E8F0FE;\n",
              "      border: none;\n",
              "      border-radius: 50%;\n",
              "      cursor: pointer;\n",
              "      display: none;\n",
              "      fill: #1967D2;\n",
              "      height: 32px;\n",
              "      padding: 0 0 0 0;\n",
              "      width: 32px;\n",
              "    }\n",
              "\n",
              "    .colab-df-convert:hover {\n",
              "      background-color: #E2EBFA;\n",
              "      box-shadow: 0px 1px 2px rgba(60, 64, 67, 0.3), 0px 1px 3px 1px rgba(60, 64, 67, 0.15);\n",
              "      fill: #174EA6;\n",
              "    }\n",
              "\n",
              "    [theme=dark] .colab-df-convert {\n",
              "      background-color: #3B4455;\n",
              "      fill: #D2E3FC;\n",
              "    }\n",
              "\n",
              "    [theme=dark] .colab-df-convert:hover {\n",
              "      background-color: #434B5C;\n",
              "      box-shadow: 0px 1px 3px 1px rgba(0, 0, 0, 0.15);\n",
              "      filter: drop-shadow(0px 1px 2px rgba(0, 0, 0, 0.3));\n",
              "      fill: #FFFFFF;\n",
              "    }\n",
              "  </style>\n",
              "\n",
              "      <script>\n",
              "        const buttonEl =\n",
              "          document.querySelector('#df-e5ce7a9b-e387-48b8-a641-1a6be3a454a8 button.colab-df-convert');\n",
              "        buttonEl.style.display =\n",
              "          google.colab.kernel.accessAllowed ? 'block' : 'none';\n",
              "\n",
              "        async function convertToInteractive(key) {\n",
              "          const element = document.querySelector('#df-e5ce7a9b-e387-48b8-a641-1a6be3a454a8');\n",
              "          const dataTable =\n",
              "            await google.colab.kernel.invokeFunction('convertToInteractive',\n",
              "                                                     [key], {});\n",
              "          if (!dataTable) return;\n",
              "\n",
              "          const docLinkHtml = 'Like what you see? Visit the ' +\n",
              "            '<a target=\"_blank\" href=https://colab.research.google.com/notebooks/data_table.ipynb>data table notebook</a>'\n",
              "            + ' to learn more about interactive tables.';\n",
              "          element.innerHTML = '';\n",
              "          dataTable['output_type'] = 'display_data';\n",
              "          await google.colab.output.renderOutput(dataTable, element);\n",
              "          const docLink = document.createElement('div');\n",
              "          docLink.innerHTML = docLinkHtml;\n",
              "          element.appendChild(docLink);\n",
              "        }\n",
              "      </script>\n",
              "    </div>\n",
              "  </div>\n",
              "  "
            ]
          },
          "metadata": {},
          "execution_count": 15
        }
      ]
    },
    {
      "cell_type": "code",
      "source": [
        "data_df[\"weekday\"]=data_df['Start_dates'].apply(lambda x:x.weekday())"
      ],
      "metadata": {
        "id": "LftpdeKsCqBK"
      },
      "execution_count": null,
      "outputs": []
    },
    {
      "cell_type": "code",
      "source": [
        "data_df.dtypes"
      ],
      "metadata": {
        "colab": {
          "base_uri": "https://localhost:8080/"
        },
        "id": "CnAoSg6SL3qJ",
        "outputId": "b25eabb4-4bdd-47f2-f517-589c6e905fd7"
      },
      "execution_count": null,
      "outputs": [
        {
          "output_type": "execute_result",
          "data": {
            "text/plain": [
              "ride_id                        object\n",
              "rideable_type                  object\n",
              "started_at             datetime64[ns]\n",
              "ended_at               datetime64[ns]\n",
              "start_station_name             object\n",
              "start_station_id               object\n",
              "end_station_name               object\n",
              "end_station_id                 object\n",
              "start_lat                     float64\n",
              "start_lng                     float64\n",
              "end_lat                       float64\n",
              "end_lng                       float64\n",
              "member_casual                  object\n",
              "ride_length           timedelta64[ns]\n",
              "Start_dates            datetime64[ns]\n",
              "Start_time                     object\n",
              "weekday                         int64\n",
              "dtype: object"
            ]
          },
          "metadata": {},
          "execution_count": 17
        }
      ]
    },
    {
      "cell_type": "code",
      "source": [
        "data_df['weekday'].unique()"
      ],
      "metadata": {
        "colab": {
          "base_uri": "https://localhost:8080/"
        },
        "id": "UEYIMC8iEE3N",
        "outputId": "d0e411b8-8b0a-4835-965b-d733b2276f10"
      },
      "execution_count": null,
      "outputs": [
        {
          "output_type": "execute_result",
          "data": {
            "text/plain": [
              "array([6, 4, 2, 1, 5, 3, 0])"
            ]
          },
          "metadata": {},
          "execution_count": 18
        }
      ]
    },
    {
      "cell_type": "code",
      "source": [
        "day_dict={0:\"sunday\",1:\"monday\",2:\"tuesday\",3:\"wednesday\",4:\"thursday\",5:\"friday\",6:\"saturday\"}"
      ],
      "metadata": {
        "id": "O1oO5_olCot1"
      },
      "execution_count": null,
      "outputs": []
    },
    {
      "cell_type": "code",
      "source": [
        "data_df[\"weekday_name\"] = data_df[\"weekday\"].apply(lambda y:day_dict[y])"
      ],
      "metadata": {
        "id": "XXSKHUfbQ8wA"
      },
      "execution_count": null,
      "outputs": []
    },
    {
      "cell_type": "code",
      "source": [
        "data_df['year'] = pd.DatetimeIndex(data_df['Start_dates']).year"
      ],
      "metadata": {
        "id": "kStS8PvtRgr9"
      },
      "execution_count": null,
      "outputs": []
    },
    {
      "cell_type": "code",
      "source": [
        "data_df['month'] = pd.DatetimeIndex(data_df['Start_dates']).month"
      ],
      "metadata": {
        "id": "uvJdl8IVRf-n"
      },
      "execution_count": null,
      "outputs": []
    },
    {
      "cell_type": "code",
      "source": [
        "data_df.head()"
      ],
      "metadata": {
        "colab": {
          "base_uri": "https://localhost:8080/",
          "height": 444
        },
        "id": "hWoy7AttS8Ix",
        "outputId": "cff1d021-ef33-4256-9079-a8b72ff14e9a"
      },
      "execution_count": null,
      "outputs": [
        {
          "output_type": "execute_result",
          "data": {
            "text/plain": [
              "            ride_id rideable_type          started_at            ended_at  \\\n",
              "0  A847FADBBC638E45   docked_bike 2020-04-26 17:45:14 2020-04-26 18:12:03   \n",
              "1  5405B80E996FF60D   docked_bike 2020-04-17 17:08:54 2020-04-17 17:17:03   \n",
              "2  5DD24A79A4E006F4   docked_bike 2020-04-01 17:54:13 2020-04-01 18:08:36   \n",
              "3  2A59BBDF5CDBA725   docked_bike 2020-04-07 12:50:19 2020-04-07 13:02:31   \n",
              "4  27AD306C119C6158   docked_bike 2020-04-18 10:22:59 2020-04-18 11:15:54   \n",
              "\n",
              "             start_station_name start_station_id             end_station_name  \\\n",
              "0                  Eckhart Park               86  Lincoln Ave & Diversey Pkwy   \n",
              "1     Drake Ave & Fullerton Ave              503              Kosciuszko Park   \n",
              "2          McClurg Ct & Erie St              142   Indiana Ave & Roosevelt Rd   \n",
              "3  California Ave & Division St              216       Wood St & Augusta Blvd   \n",
              "4          Rush St & Hubbard St              125   Sheridan Rd & Lawrence Ave   \n",
              "\n",
              "  end_station_id  start_lat  start_lng  end_lat  end_lng member_casual  \\\n",
              "0          152.0    41.8964   -87.6610  41.9322 -87.6586        member   \n",
              "1          499.0    41.9244   -87.7154  41.9306 -87.7238        member   \n",
              "2          255.0    41.8945   -87.6179  41.8679 -87.6230        member   \n",
              "3          657.0    41.9030   -87.6975  41.8992 -87.6722        member   \n",
              "4          323.0    41.8902   -87.6262  41.9695 -87.6547        casual   \n",
              "\n",
              "      ride_length Start_dates Start_time  weekday weekday_name  year  month  \n",
              "0 0 days 00:26:49  2020-04-26   17:45:14        6     saturday  2020      4  \n",
              "1 0 days 00:08:09  2020-04-17   17:08:54        4     thursday  2020      4  \n",
              "2 0 days 00:14:23  2020-04-01   17:54:13        2      tuesday  2020      4  \n",
              "3 0 days 00:12:12  2020-04-07   12:50:19        1       monday  2020      4  \n",
              "4 0 days 00:52:55  2020-04-18   10:22:59        5       friday  2020      4  "
            ],
            "text/html": [
              "\n",
              "  <div id=\"df-243ad84f-b7e9-4a87-a1de-9d28159ec86f\">\n",
              "    <div class=\"colab-df-container\">\n",
              "      <div>\n",
              "<style scoped>\n",
              "    .dataframe tbody tr th:only-of-type {\n",
              "        vertical-align: middle;\n",
              "    }\n",
              "\n",
              "    .dataframe tbody tr th {\n",
              "        vertical-align: top;\n",
              "    }\n",
              "\n",
              "    .dataframe thead th {\n",
              "        text-align: right;\n",
              "    }\n",
              "</style>\n",
              "<table border=\"1\" class=\"dataframe\">\n",
              "  <thead>\n",
              "    <tr style=\"text-align: right;\">\n",
              "      <th></th>\n",
              "      <th>ride_id</th>\n",
              "      <th>rideable_type</th>\n",
              "      <th>started_at</th>\n",
              "      <th>ended_at</th>\n",
              "      <th>start_station_name</th>\n",
              "      <th>start_station_id</th>\n",
              "      <th>end_station_name</th>\n",
              "      <th>end_station_id</th>\n",
              "      <th>start_lat</th>\n",
              "      <th>start_lng</th>\n",
              "      <th>end_lat</th>\n",
              "      <th>end_lng</th>\n",
              "      <th>member_casual</th>\n",
              "      <th>ride_length</th>\n",
              "      <th>Start_dates</th>\n",
              "      <th>Start_time</th>\n",
              "      <th>weekday</th>\n",
              "      <th>weekday_name</th>\n",
              "      <th>year</th>\n",
              "      <th>month</th>\n",
              "    </tr>\n",
              "  </thead>\n",
              "  <tbody>\n",
              "    <tr>\n",
              "      <th>0</th>\n",
              "      <td>A847FADBBC638E45</td>\n",
              "      <td>docked_bike</td>\n",
              "      <td>2020-04-26 17:45:14</td>\n",
              "      <td>2020-04-26 18:12:03</td>\n",
              "      <td>Eckhart Park</td>\n",
              "      <td>86</td>\n",
              "      <td>Lincoln Ave &amp; Diversey Pkwy</td>\n",
              "      <td>152.0</td>\n",
              "      <td>41.8964</td>\n",
              "      <td>-87.6610</td>\n",
              "      <td>41.9322</td>\n",
              "      <td>-87.6586</td>\n",
              "      <td>member</td>\n",
              "      <td>0 days 00:26:49</td>\n",
              "      <td>2020-04-26</td>\n",
              "      <td>17:45:14</td>\n",
              "      <td>6</td>\n",
              "      <td>saturday</td>\n",
              "      <td>2020</td>\n",
              "      <td>4</td>\n",
              "    </tr>\n",
              "    <tr>\n",
              "      <th>1</th>\n",
              "      <td>5405B80E996FF60D</td>\n",
              "      <td>docked_bike</td>\n",
              "      <td>2020-04-17 17:08:54</td>\n",
              "      <td>2020-04-17 17:17:03</td>\n",
              "      <td>Drake Ave &amp; Fullerton Ave</td>\n",
              "      <td>503</td>\n",
              "      <td>Kosciuszko Park</td>\n",
              "      <td>499.0</td>\n",
              "      <td>41.9244</td>\n",
              "      <td>-87.7154</td>\n",
              "      <td>41.9306</td>\n",
              "      <td>-87.7238</td>\n",
              "      <td>member</td>\n",
              "      <td>0 days 00:08:09</td>\n",
              "      <td>2020-04-17</td>\n",
              "      <td>17:08:54</td>\n",
              "      <td>4</td>\n",
              "      <td>thursday</td>\n",
              "      <td>2020</td>\n",
              "      <td>4</td>\n",
              "    </tr>\n",
              "    <tr>\n",
              "      <th>2</th>\n",
              "      <td>5DD24A79A4E006F4</td>\n",
              "      <td>docked_bike</td>\n",
              "      <td>2020-04-01 17:54:13</td>\n",
              "      <td>2020-04-01 18:08:36</td>\n",
              "      <td>McClurg Ct &amp; Erie St</td>\n",
              "      <td>142</td>\n",
              "      <td>Indiana Ave &amp; Roosevelt Rd</td>\n",
              "      <td>255.0</td>\n",
              "      <td>41.8945</td>\n",
              "      <td>-87.6179</td>\n",
              "      <td>41.8679</td>\n",
              "      <td>-87.6230</td>\n",
              "      <td>member</td>\n",
              "      <td>0 days 00:14:23</td>\n",
              "      <td>2020-04-01</td>\n",
              "      <td>17:54:13</td>\n",
              "      <td>2</td>\n",
              "      <td>tuesday</td>\n",
              "      <td>2020</td>\n",
              "      <td>4</td>\n",
              "    </tr>\n",
              "    <tr>\n",
              "      <th>3</th>\n",
              "      <td>2A59BBDF5CDBA725</td>\n",
              "      <td>docked_bike</td>\n",
              "      <td>2020-04-07 12:50:19</td>\n",
              "      <td>2020-04-07 13:02:31</td>\n",
              "      <td>California Ave &amp; Division St</td>\n",
              "      <td>216</td>\n",
              "      <td>Wood St &amp; Augusta Blvd</td>\n",
              "      <td>657.0</td>\n",
              "      <td>41.9030</td>\n",
              "      <td>-87.6975</td>\n",
              "      <td>41.8992</td>\n",
              "      <td>-87.6722</td>\n",
              "      <td>member</td>\n",
              "      <td>0 days 00:12:12</td>\n",
              "      <td>2020-04-07</td>\n",
              "      <td>12:50:19</td>\n",
              "      <td>1</td>\n",
              "      <td>monday</td>\n",
              "      <td>2020</td>\n",
              "      <td>4</td>\n",
              "    </tr>\n",
              "    <tr>\n",
              "      <th>4</th>\n",
              "      <td>27AD306C119C6158</td>\n",
              "      <td>docked_bike</td>\n",
              "      <td>2020-04-18 10:22:59</td>\n",
              "      <td>2020-04-18 11:15:54</td>\n",
              "      <td>Rush St &amp; Hubbard St</td>\n",
              "      <td>125</td>\n",
              "      <td>Sheridan Rd &amp; Lawrence Ave</td>\n",
              "      <td>323.0</td>\n",
              "      <td>41.8902</td>\n",
              "      <td>-87.6262</td>\n",
              "      <td>41.9695</td>\n",
              "      <td>-87.6547</td>\n",
              "      <td>casual</td>\n",
              "      <td>0 days 00:52:55</td>\n",
              "      <td>2020-04-18</td>\n",
              "      <td>10:22:59</td>\n",
              "      <td>5</td>\n",
              "      <td>friday</td>\n",
              "      <td>2020</td>\n",
              "      <td>4</td>\n",
              "    </tr>\n",
              "  </tbody>\n",
              "</table>\n",
              "</div>\n",
              "      <button class=\"colab-df-convert\" onclick=\"convertToInteractive('df-243ad84f-b7e9-4a87-a1de-9d28159ec86f')\"\n",
              "              title=\"Convert this dataframe to an interactive table.\"\n",
              "              style=\"display:none;\">\n",
              "        \n",
              "  <svg xmlns=\"http://www.w3.org/2000/svg\" height=\"24px\"viewBox=\"0 0 24 24\"\n",
              "       width=\"24px\">\n",
              "    <path d=\"M0 0h24v24H0V0z\" fill=\"none\"/>\n",
              "    <path d=\"M18.56 5.44l.94 2.06.94-2.06 2.06-.94-2.06-.94-.94-2.06-.94 2.06-2.06.94zm-11 1L8.5 8.5l.94-2.06 2.06-.94-2.06-.94L8.5 2.5l-.94 2.06-2.06.94zm10 10l.94 2.06.94-2.06 2.06-.94-2.06-.94-.94-2.06-.94 2.06-2.06.94z\"/><path d=\"M17.41 7.96l-1.37-1.37c-.4-.4-.92-.59-1.43-.59-.52 0-1.04.2-1.43.59L10.3 9.45l-7.72 7.72c-.78.78-.78 2.05 0 2.83L4 21.41c.39.39.9.59 1.41.59.51 0 1.02-.2 1.41-.59l7.78-7.78 2.81-2.81c.8-.78.8-2.07 0-2.86zM5.41 20L4 18.59l7.72-7.72 1.47 1.35L5.41 20z\"/>\n",
              "  </svg>\n",
              "      </button>\n",
              "      \n",
              "  <style>\n",
              "    .colab-df-container {\n",
              "      display:flex;\n",
              "      flex-wrap:wrap;\n",
              "      gap: 12px;\n",
              "    }\n",
              "\n",
              "    .colab-df-convert {\n",
              "      background-color: #E8F0FE;\n",
              "      border: none;\n",
              "      border-radius: 50%;\n",
              "      cursor: pointer;\n",
              "      display: none;\n",
              "      fill: #1967D2;\n",
              "      height: 32px;\n",
              "      padding: 0 0 0 0;\n",
              "      width: 32px;\n",
              "    }\n",
              "\n",
              "    .colab-df-convert:hover {\n",
              "      background-color: #E2EBFA;\n",
              "      box-shadow: 0px 1px 2px rgba(60, 64, 67, 0.3), 0px 1px 3px 1px rgba(60, 64, 67, 0.15);\n",
              "      fill: #174EA6;\n",
              "    }\n",
              "\n",
              "    [theme=dark] .colab-df-convert {\n",
              "      background-color: #3B4455;\n",
              "      fill: #D2E3FC;\n",
              "    }\n",
              "\n",
              "    [theme=dark] .colab-df-convert:hover {\n",
              "      background-color: #434B5C;\n",
              "      box-shadow: 0px 1px 3px 1px rgba(0, 0, 0, 0.15);\n",
              "      filter: drop-shadow(0px 1px 2px rgba(0, 0, 0, 0.3));\n",
              "      fill: #FFFFFF;\n",
              "    }\n",
              "  </style>\n",
              "\n",
              "      <script>\n",
              "        const buttonEl =\n",
              "          document.querySelector('#df-243ad84f-b7e9-4a87-a1de-9d28159ec86f button.colab-df-convert');\n",
              "        buttonEl.style.display =\n",
              "          google.colab.kernel.accessAllowed ? 'block' : 'none';\n",
              "\n",
              "        async function convertToInteractive(key) {\n",
              "          const element = document.querySelector('#df-243ad84f-b7e9-4a87-a1de-9d28159ec86f');\n",
              "          const dataTable =\n",
              "            await google.colab.kernel.invokeFunction('convertToInteractive',\n",
              "                                                     [key], {});\n",
              "          if (!dataTable) return;\n",
              "\n",
              "          const docLinkHtml = 'Like what you see? Visit the ' +\n",
              "            '<a target=\"_blank\" href=https://colab.research.google.com/notebooks/data_table.ipynb>data table notebook</a>'\n",
              "            + ' to learn more about interactive tables.';\n",
              "          element.innerHTML = '';\n",
              "          dataTable['output_type'] = 'display_data';\n",
              "          await google.colab.output.renderOutput(dataTable, element);\n",
              "          const docLink = document.createElement('div');\n",
              "          docLink.innerHTML = docLinkHtml;\n",
              "          element.appendChild(docLink);\n",
              "        }\n",
              "      </script>\n",
              "    </div>\n",
              "  </div>\n",
              "  "
            ]
          },
          "metadata": {},
          "execution_count": 23
        }
      ]
    },
    {
      "cell_type": "markdown",
      "source": [
        "now lets also sort data according to date  in ascending order"
      ],
      "metadata": {
        "id": "u8Ge7yVlTmaq"
      }
    },
    {
      "cell_type": "code",
      "source": [
        "data_df.sort_values(by=['Start_dates'],inplace=True,ascending=True )"
      ],
      "metadata": {
        "id": "e3gzlnV7S8Br"
      },
      "execution_count": null,
      "outputs": []
    },
    {
      "cell_type": "code",
      "source": [
        "data_df.isnull().sum()"
      ],
      "metadata": {
        "colab": {
          "base_uri": "https://localhost:8080/"
        },
        "id": "YTY_fzQ-S79o",
        "outputId": "f55d9386-e589-428d-f29d-676eb7d8cabf"
      },
      "execution_count": null,
      "outputs": [
        {
          "output_type": "execute_result",
          "data": {
            "text/plain": [
              "ride_id                    0\n",
              "rideable_type              0\n",
              "started_at                 0\n",
              "ended_at                   0\n",
              "start_station_name    122175\n",
              "start_station_id      122801\n",
              "end_station_name      143242\n",
              "end_station_id        143703\n",
              "start_lat                  0\n",
              "start_lng                  0\n",
              "end_lat                 4738\n",
              "end_lng                 4738\n",
              "member_casual              0\n",
              "ride_length                0\n",
              "Start_dates                0\n",
              "Start_time                 0\n",
              "weekday                    0\n",
              "weekday_name               0\n",
              "year                       0\n",
              "month                      0\n",
              "dtype: int64"
            ]
          },
          "metadata": {},
          "execution_count": 25
        }
      ]
    },
    {
      "cell_type": "code",
      "source": [
        "data_df.duplicated().any()"
      ],
      "metadata": {
        "colab": {
          "base_uri": "https://localhost:8080/"
        },
        "id": "rV541rMcS77f",
        "outputId": "53dd5345-c702-46c2-ff04-1562b2942f54"
      },
      "execution_count": null,
      "outputs": [
        {
          "output_type": "execute_result",
          "data": {
            "text/plain": [
              "False"
            ]
          },
          "metadata": {},
          "execution_count": 26
        }
      ]
    },
    {
      "cell_type": "code",
      "source": [
        "data_member = data_df[data_df[\"member_casual\"]==\"member\"]\n",
        "data_member_ride_len_mean = data_member[\"ride_length\"].mean()\n",
        "data_member_ride_len_mean"
      ],
      "metadata": {
        "colab": {
          "base_uri": "https://localhost:8080/"
        },
        "id": "gV4weqa4S754",
        "outputId": "6d4592a0-0c84-45e7-e5dc-e3eb0749f108"
      },
      "execution_count": null,
      "outputs": [
        {
          "output_type": "execute_result",
          "data": {
            "text/plain": [
              "Timedelta('0 days 00:11:54.131887779')"
            ]
          },
          "metadata": {},
          "execution_count": 27
        }
      ]
    },
    {
      "cell_type": "code",
      "source": [
        "data_casual = data_df[data_df[\"member_casual\"]==\"casual\"]\n",
        "data_casual_ride_len_mean = data_casual[\"ride_length\"].mean()\n",
        "data_casual_ride_len_mean"
      ],
      "metadata": {
        "colab": {
          "base_uri": "https://localhost:8080/"
        },
        "id": "uwbTiOdXS70u",
        "outputId": "a554559c-fd94-4fcd-fc51-1416e12fa5e1"
      },
      "execution_count": null,
      "outputs": [
        {
          "output_type": "execute_result",
          "data": {
            "text/plain": [
              "Timedelta('0 days 00:43:17.286892397')"
            ]
          },
          "metadata": {},
          "execution_count": 28
        }
      ]
    },
    {
      "cell_type": "code",
      "source": [
        "data_member_ride_len_max = data_member[\"ride_length\"].max()\n",
        "data_member_ride_len_max"
      ],
      "metadata": {
        "colab": {
          "base_uri": "https://localhost:8080/"
        },
        "id": "kWUgHGy-XMC7",
        "outputId": "3dcf5d7f-3d47-4d62-e6ef-ccacea21ad31"
      },
      "execution_count": null,
      "outputs": [
        {
          "output_type": "execute_result",
          "data": {
            "text/plain": [
              "Timedelta('40 days 18:40:02')"
            ]
          },
          "metadata": {},
          "execution_count": 29
        }
      ]
    },
    {
      "cell_type": "code",
      "source": [
        "data_casual_ride_len_max = data_casual[\"ride_length\"].max()\n",
        "data_casual_ride_len_max"
      ],
      "metadata": {
        "colab": {
          "base_uri": "https://localhost:8080/"
        },
        "id": "9dUyVCyRXL1i",
        "outputId": "661c549c-d9e4-4667-90c9-2c3eeede4d47"
      },
      "execution_count": null,
      "outputs": [
        {
          "output_type": "execute_result",
          "data": {
            "text/plain": [
              "Timedelta('38 days 16:03:53')"
            ]
          },
          "metadata": {},
          "execution_count": 30
        }
      ]
    },
    {
      "cell_type": "code",
      "source": [
        "#mode calculation\n",
        "data_member_ride_day_mode = data_member[\"weekday\"].mode()\n",
        "data_member_ride_day_mode"
      ],
      "metadata": {
        "colab": {
          "base_uri": "https://localhost:8080/"
        },
        "id": "4eqw40TqaRvz",
        "outputId": "ef8f2983-d595-46e2-d2d7-f174357586cc"
      },
      "execution_count": null,
      "outputs": [
        {
          "output_type": "execute_result",
          "data": {
            "text/plain": [
              "0    5\n",
              "dtype: int64"
            ]
          },
          "metadata": {},
          "execution_count": 31
        }
      ]
    },
    {
      "cell_type": "code",
      "source": [
        "data_member_ride_day_mode = data_casual[\"weekday\"].mode()\n",
        "data_member_ride_day_mode"
      ],
      "metadata": {
        "colab": {
          "base_uri": "https://localhost:8080/"
        },
        "id": "9GPyTI7yaRkg",
        "outputId": "6eeaf33d-0fea-4a27-b56a-330579096fcc"
      },
      "execution_count": null,
      "outputs": [
        {
          "output_type": "execute_result",
          "data": {
            "text/plain": [
              "0    5\n",
              "dtype: int64"
            ]
          },
          "metadata": {},
          "execution_count": 32
        }
      ]
    },
    {
      "cell_type": "code",
      "source": [
        "mem_rides_pday=data_df[data_df[\"member_casual\"]==\"member\"].groupby('weekday')['ride_id'].count()\n",
        "mem_rides_pday"
      ],
      "metadata": {
        "colab": {
          "base_uri": "https://localhost:8080/"
        },
        "id": "dZIITBsQaRXr",
        "outputId": "2b555b9c-dae8-4e70-88d0-7575698fe7b6"
      },
      "execution_count": null,
      "outputs": [
        {
          "output_type": "execute_result",
          "data": {
            "text/plain": [
              "weekday\n",
              "0    268096\n",
              "1    285632\n",
              "2    306113\n",
              "3    301321\n",
              "4    307671\n",
              "5    324283\n",
              "6    266256\n",
              "Name: ride_id, dtype: int64"
            ]
          },
          "metadata": {},
          "execution_count": 33
        }
      ]
    },
    {
      "cell_type": "code",
      "source": [
        "cas_rides_pday=data_df[data_df[\"member_casual\"]==\"casual\"].groupby('weekday')['ride_id'].count()\n",
        "cas_rides_pday"
      ],
      "metadata": {
        "colab": {
          "base_uri": "https://localhost:8080/"
        },
        "id": "9LEy82jvdgLu",
        "outputId": "61660dc1-aa1b-497e-cfca-0954817c0d41"
      },
      "execution_count": null,
      "outputs": [
        {
          "output_type": "execute_result",
          "data": {
            "text/plain": [
              "weekday\n",
              "0    151460\n",
              "1    145660\n",
              "2    158691\n",
              "3    166672\n",
              "4    209131\n",
              "5    335901\n",
              "6    262861\n",
              "Name: ride_id, dtype: int64"
            ]
          },
          "metadata": {},
          "execution_count": 34
        }
      ]
    },
    {
      "cell_type": "code",
      "source": [
        "plt.figure(figsize=(8,6))\n",
        "plt.plot(cas_rides_pday)\n",
        "plt.plot(mem_rides_pday)\n",
        "plt.title(\"ride duration per day- Member vs casual\")\n",
        "plt.legend([\"members\",\"casual\"])\n",
        "labels=[\"Sunday\",\"Monday\",\"Tuesday\",\"Wednesday\",\"Thursday\",\"Friday\",\"Saturday\"]\n",
        "\n",
        "plt.show()"
      ],
      "metadata": {
        "colab": {
          "base_uri": "https://localhost:8080/",
          "height": 390
        },
        "id": "ug590jZg5buH",
        "outputId": "db16a374-22fb-4bb6-d136-a33e3888e51f"
      },
      "execution_count": null,
      "outputs": [
        {
          "output_type": "display_data",
          "data": {
            "text/plain": [
              "<Figure size 576x432 with 1 Axes>"
            ],
            "image/png": "[encoded data removed]"
          },
          "metadata": {
            "needs_background": "light"
          }
        }
      ]
    },
    {
      "cell_type": "code",
      "source": [
        "member_type = data_df[\"member_casual\"].value_counts()\n",
        "member_type"
      ],
      "metadata": {
        "colab": {
          "base_uri": "https://localhost:8080/"
        },
        "id": "aP5qzw2mdf1x",
        "outputId": "dfc1093e-bea1-47a3-c368-7ec5be818e1e"
      },
      "execution_count": null,
      "outputs": [
        {
          "output_type": "execute_result",
          "data": {
            "text/plain": [
              "member    2059372\n",
              "casual    1430376\n",
              "Name: member_casual, dtype: int64"
            ]
          },
          "metadata": {},
          "execution_count": 43
        }
      ]
    },
    {
      "cell_type": "code",
      "source": [
        "plt.title(\"number of users- memberandcasual\")\n",
        "plt.bar(member_type.index,member_type.values)\n",
        "plt.ticklabel_format(style='plain', axis='y')"
      ],
      "metadata": {
        "colab": {
          "base_uri": "https://localhost:8080/",
          "height": 281
        },
        "id": "_8AIEN5Ldfrp",
        "outputId": "3504e5b3-050a-49ab-bb15-88d43d15688e"
      },
      "execution_count": null,
      "outputs": [
        {
          "output_type": "display_data",
          "data": {
            "text/plain": [
              "<Figure size 432x288 with 1 Axes>"
            ],
            "image/png": "[encoded data removed]"
          },
          "metadata": {
            "needs_background": "light"
          }
        }
      ]
    },
    {
      "cell_type": "code",
      "source": [
        "plt.figure(figsize=(8,6))\n",
        "plt.pie(member_type.values,labels=member_type.index,autopct='%1.1f%%')\n",
        "plt.title(\"Percentage of each user type\")\n",
        "plt.legend(member_type.index)\n",
        "plt.show()"
      ],
      "metadata": {
        "colab": {
          "base_uri": "https://localhost:8080/",
          "height": 373
        },
        "id": "8bvn00HdEjWb",
        "outputId": "2e8ca3a0-1fbe-4bbf-aeae-8260f99091fb"
      },
      "execution_count": null,
      "outputs": [
        {
          "output_type": "display_data",
          "data": {
            "text/plain": [
              "<Figure size 576x432 with 1 Axes>"
            ],
            "image/png": "[encoded data removed]"
          },
          "metadata": {}
        }
      ]
    },
    {
      "cell_type": "code",
      "source": [
        "monthly_user = data_df.groupby(\"month\")['member_casual'].value_counts()\n",
        "monthly_user\n"
      ],
      "metadata": {
        "colab": {
          "base_uri": "https://localhost:8080/"
        },
        "id": "xRw88ucpGKgn",
        "outputId": "0fadf636-a1ec-48c1-b1e6-0a2db1c0dcf3"
      },
      "execution_count": null,
      "outputs": [
        {
          "output_type": "execute_result",
          "data": {
            "text/plain": [
              "month  member_casual\n",
              "1      member            78717\n",
              "       casual            18117\n",
              "2      member            39491\n",
              "       casual            10131\n",
              "3      member           144463\n",
              "       casual            84033\n",
              "4      member            61148\n",
              "       casual            23628\n",
              "5      member           113365\n",
              "       casual            86909\n",
              "6      member           188287\n",
              "       casual           154718\n",
              "7      member           282184\n",
              "       casual           269296\n",
              "8      member           332700\n",
              "       casual           289661\n",
              "9      member           302266\n",
              "       casual           230692\n",
              "10     member           243641\n",
              "       casual           145012\n",
              "11     member           171617\n",
              "       casual            88099\n",
              "12     member           101493\n",
              "       casual            30080\n",
              "Name: member_casual, dtype: int64"
            ]
          },
          "metadata": {},
          "execution_count": 46
        }
      ]
    },
    {
      "cell_type": "code",
      "source": [
        "plt.figure(figsize=(8,6))\n",
        "sns.countplot(x=\"member_casual\",hue=\"month\",data=data_df)"
      ],
      "metadata": {
        "colab": {
          "base_uri": "https://localhost:8080/",
          "height": 407
        },
        "id": "PGKI11BEG72T",
        "outputId": "737d1134-5b05-4344-d2c2-6fb48a1f0aa7"
      },
      "execution_count": null,
      "outputs": [
        {
          "output_type": "execute_result",
          "data": {
            "text/plain": [
              "<matplotlib.axes._subplots.AxesSubplot at 0x7f12966ab9d0>"
            ]
          },
          "metadata": {},
          "execution_count": 47
        },
        {
          "output_type": "display_data",
          "data": {
            "text/plain": [
              "<Figure size 576x432 with 1 Axes>"
            ],
            "image/png": "[encoded data removed]"
          },
          "metadata": {
            "needs_background": "light"
          }
        }
      ]
    },
    {
      "cell_type": "code",
      "source": [
        "plt.figure(figsize=(8,6))\n",
        "sns.countplot(x=\"member_casual\",hue=\"rideable_type\",data=data_df)\n",
        "plt.ticklabel_format(style='plain',axis='y')"
      ],
      "metadata": {
        "colab": {
          "base_uri": "https://localhost:8080/",
          "height": 389
        },
        "id": "uAdhPH_sHede",
        "outputId": "a9f626e5-b4ce-41cf-ce03-37a2adb58ed3"
      },
      "execution_count": null,
      "outputs": [
        {
          "output_type": "display_data",
          "data": {
            "text/plain": [
              "<Figure size 576x432 with 1 Axes>"
            ],
            "image/png": "[encoded data removed]"
          },
          "metadata": {
            "needs_background": "light"
          }
        }
      ]
    },
    {
      "cell_type": "markdown",
      "source": [
        "**Recommendations**\n",
        "We see that the number of casual members are quite high , the company can give them some incentive to become loyal costumers through becoming annual members.\n",
        "1.The incentive could be that the company could lower the charges for the rides for member customers than a casual users.This would encourage to casual usersto become regular members.\n",
        "2.The bike company can also give bonus points for each ride to the member user.Bonus points can be accumulated to secure free rides. Hopefully this would aim to see an increase in number of rides and also member subscriptions.\n",
        "3.We also see that casual users are more active on weekends so we can lower weekend rates for member users to encourage them to use rides on weekend too and this will also encourage casual riders to become subscribers.\n",
        "4.Discounts can also be given e.g. may be 5% to 10% after 10 minutes of ride.\n",
        "5.We see that the casual members also use Docker bikes so may be we can provide some discounts on riding docker bikes for member users, so that it would encourage the casual users to buy annual subscriptions.\n",
        "6.Through advertisements discounts can be offered during july-august to attract casual to buy memberships."
      ],
      "metadata": {
        "id": "uyiTCbDkO76G"
      }
    }
  ]
}